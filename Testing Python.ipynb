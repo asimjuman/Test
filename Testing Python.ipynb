{
 "cells": [
  {
   "cell_type": "code",
   "execution_count": 2,
   "id": "8f047129-706d-4fd4-8dd6-a8ae240d52c6",
   "metadata": {},
   "outputs": [
    {
     "name": "stdout",
     "output_type": "stream",
     "text": [
      "3\n"
     ]
    }
   ],
   "source": [
    "one = 1\n",
    "two = 2\n",
    "print(one + two)\n"
   ]
  },
  {
   "cell_type": "code",
   "execution_count": 3,
   "id": "99a2b8dd-8bc8-457d-8dc2-8fa4e5f9b54d",
   "metadata": {},
   "outputs": [
    {
     "data": {
      "text/plain": [
       "2"
      ]
     },
     "execution_count": 3,
     "metadata": {},
     "output_type": "execute_result"
    }
   ],
   "source": [
    "1+1\n",
    "\n"
   ]
  },
  {
   "cell_type": "markdown",
   "id": "bceeb6b7-0d42-4753-893a-da0844ab2f4f",
   "metadata": {},
   "source": [
    "###### My Title"
   ]
  },
  {
   "cell_type": "markdown",
   "id": "f5677451-3a86-4048-98a5-80dd6d23d69c",
   "metadata": {
    "tags": []
   },
   "source": [
    "## Learning Mark up"
   ]
  },
  {
   "cell_type": "markdown",
   "id": "59b4922f-91ad-447b-ab9b-1ad045729101",
   "metadata": {
    "tags": []
   },
   "source": [
    "# Bigger Text\n"
   ]
  },
  {
   "cell_type": "code",
   "execution_count": null,
   "id": "53e05a93-5f79-4333-9a51-cc30c0452fa4",
   "metadata": {},
   "outputs": [],
   "source": []
  },
  {
   "cell_type": "code",
   "execution_count": null,
   "id": "313ed2f1-f2a3-42ff-b8f4-6ef2ec648940",
   "metadata": {},
   "outputs": [],
   "source": []
  },
  {
   "cell_type": "code",
   "execution_count": null,
   "id": "da2527c3-763d-4548-bd67-ea02526f65ff",
   "metadata": {},
   "outputs": [],
   "source": []
  },
  {
   "cell_type": "code",
   "execution_count": null,
   "id": "3e1e982e-25d2-4867-8c92-b1cce8844885",
   "metadata": {},
   "outputs": [],
   "source": []
  },
  {
   "cell_type": "code",
   "execution_count": null,
   "id": "30f9a011-070e-440c-a2f9-f86cd26c5045",
   "metadata": {},
   "outputs": [],
   "source": []
  },
  {
   "cell_type": "code",
   "execution_count": null,
   "id": "9c1b4477-598b-4b66-9363-9f99edc645d1",
   "metadata": {},
   "outputs": [],
   "source": []
  },
  {
   "cell_type": "code",
   "execution_count": null,
   "id": "c6e997cb-afa2-4351-bcae-1967a7f43597",
   "metadata": {},
   "outputs": [],
   "source": []
  },
  {
   "cell_type": "code",
   "execution_count": null,
   "id": "c05cc700-79f8-4fb1-826b-038b695df0fe",
   "metadata": {},
   "outputs": [],
   "source": []
  }
 ],
 "metadata": {
  "kernelspec": {
   "display_name": "Python",
   "language": "python",
   "name": "conda-env-python-py"
  },
  "language_info": {
   "codemirror_mode": {
    "name": "ipython",
    "version": 3
   },
   "file_extension": ".py",
   "mimetype": "text/x-python",
   "name": "python",
   "nbconvert_exporter": "python",
   "pygments_lexer": "ipython3",
   "version": "3.7.12"
  }
 },
 "nbformat": 4,
 "nbformat_minor": 5
}
